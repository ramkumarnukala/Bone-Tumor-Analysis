{
 "cells": [
  {
   "cell_type": "markdown",
   "metadata": {},
   "source": [
    "### Bone Tumor\n",
    "A Dataset of Bone Tumors from the Memorial Sloan Kettering Cancer Center 📍 New York, USA"
   ]
  },
  {
   "cell_type": "code",
   "execution_count": 1,
   "metadata": {},
   "outputs": [],
   "source": [
    "import numpy as np\n",
    "import pandas as pd\n",
    "import seaborn as sns\n",
    "import matplotlib.pyplot as plt\n",
    "import plotly.graph_objs as go\n",
    "import warnings\n",
    "import nbformat\n",
    "\n",
    "warnings.filterwarnings('ignore')\n",
    "warnings.filterwarnings('error', category=DeprecationWarning)"
   ]
  },
  {
   "cell_type": "code",
   "execution_count": 2,
   "metadata": {},
   "outputs": [
    {
     "name": "stdout",
     "output_type": "stream",
     "text": [
      "<class 'pandas.core.frame.DataFrame'>\n",
      "RangeIndex: 500 entries, 0 to 499\n",
      "Data columns (total 9 columns):\n",
      " #   Column                Non-Null Count  Dtype \n",
      "---  ------                --------------  ----- \n",
      " 0   Patient ID            500 non-null    object\n",
      " 1   Sex                   500 non-null    object\n",
      " 2   Age                   500 non-null    int64 \n",
      " 3   Grade                 500 non-null    object\n",
      " 4   Histological type     500 non-null    object\n",
      " 5   MSKCC type            500 non-null    object\n",
      " 6   Site of primary STS   500 non-null    object\n",
      " 7   Status (NED, AWD, D)  500 non-null    object\n",
      " 8   Treatment             500 non-null    object\n",
      "dtypes: int64(1), object(8)\n",
      "memory usage: 35.3+ KB\n"
     ]
    }
   ],
   "source": [
    "df = pd.read_csv(\"/Data Analysis Projects/Bone-Tumor-Analysis/data/Bone Tumor Dataset.csv\")\n",
    "df.info()"
   ]
  },
  {
   "cell_type": "code",
   "execution_count": 3,
   "metadata": {},
   "outputs": [
    {
     "data": {
      "text/plain": [
       "Patient ID              0\n",
       "Sex                     0\n",
       "Age                     0\n",
       "Grade                   0\n",
       "Histological type       0\n",
       "MSKCC type              0\n",
       "Site of primary STS     0\n",
       "Status (NED, AWD, D)    0\n",
       "Treatment               0\n",
       "dtype: int64"
      ]
     },
     "execution_count": 3,
     "metadata": {},
     "output_type": "execute_result"
    }
   ],
   "source": [
    "df.isna().sum()"
   ]
  },
  {
   "cell_type": "code",
   "execution_count": 15,
   "metadata": {},
   "outputs": [
    {
     "data": {
      "text/html": [
       "<div>\n",
       "<style scoped>\n",
       "    .dataframe tbody tr th:only-of-type {\n",
       "        vertical-align: middle;\n",
       "    }\n",
       "\n",
       "    .dataframe tbody tr th {\n",
       "        vertical-align: top;\n",
       "    }\n",
       "\n",
       "    .dataframe thead th {\n",
       "        text-align: right;\n",
       "    }\n",
       "</style>\n",
       "<table border=\"1\" class=\"dataframe\">\n",
       "  <thead>\n",
       "    <tr style=\"text-align: right;\">\n",
       "      <th></th>\n",
       "      <th>Age</th>\n",
       "    </tr>\n",
       "  </thead>\n",
       "  <tbody>\n",
       "    <tr>\n",
       "      <th>count</th>\n",
       "      <td>500.000000</td>\n",
       "    </tr>\n",
       "    <tr>\n",
       "      <th>mean</th>\n",
       "      <td>55.396000</td>\n",
       "    </tr>\n",
       "    <tr>\n",
       "      <th>std</th>\n",
       "      <td>16.131573</td>\n",
       "    </tr>\n",
       "    <tr>\n",
       "      <th>min</th>\n",
       "      <td>17.000000</td>\n",
       "    </tr>\n",
       "    <tr>\n",
       "      <th>25%</th>\n",
       "      <td>44.000000</td>\n",
       "    </tr>\n",
       "    <tr>\n",
       "      <th>50%</th>\n",
       "      <td>56.000000</td>\n",
       "    </tr>\n",
       "    <tr>\n",
       "      <th>75%</th>\n",
       "      <td>68.000000</td>\n",
       "    </tr>\n",
       "    <tr>\n",
       "      <th>max</th>\n",
       "      <td>83.000000</td>\n",
       "    </tr>\n",
       "  </tbody>\n",
       "</table>\n",
       "</div>"
      ],
      "text/plain": [
       "              Age\n",
       "count  500.000000\n",
       "mean    55.396000\n",
       "std     16.131573\n",
       "min     17.000000\n",
       "25%     44.000000\n",
       "50%     56.000000\n",
       "75%     68.000000\n",
       "max     83.000000"
      ]
     },
     "execution_count": 15,
     "metadata": {},
     "output_type": "execute_result"
    }
   ],
   "source": [
    "df.describe()"
   ]
  },
  {
   "cell_type": "code",
   "execution_count": 4,
   "metadata": {},
   "outputs": [
    {
     "name": "stdout",
     "output_type": "stream",
     "text": [
      "['Leiomyosarcoma' 'MFH' 'Synovial sarcoma']\n"
     ]
    }
   ],
   "source": [
    "print(df['MSKCC type'].unique())"
   ]
  },
  {
   "cell_type": "code",
   "execution_count": 5,
   "metadata": {},
   "outputs": [
    {
     "data": {
      "text/plain": [
       "array(['STS_022', 'STS_034', 'STS_015', 'STS_037', 'STS_023', 'STS_041',\n",
       "       'STS_011', 'STS_012', 'STS_003', 'STS_039', 'STS_048', 'STS_002',\n",
       "       'STS_020', 'STS_005', 'STS_031', 'STS_021', 'STS_024', 'STS_029'],\n",
       "      dtype=object)"
      ]
     },
     "execution_count": 5,
     "metadata": {},
     "output_type": "execute_result"
    }
   ],
   "source": [
    "df['Patient ID'].unique()"
   ]
  },
  {
   "cell_type": "code",
   "execution_count": 6,
   "metadata": {},
   "outputs": [
    {
     "data": {
      "text/html": [
       "<div>\n",
       "<style scoped>\n",
       "    .dataframe tbody tr th:only-of-type {\n",
       "        vertical-align: middle;\n",
       "    }\n",
       "\n",
       "    .dataframe tbody tr th {\n",
       "        vertical-align: top;\n",
       "    }\n",
       "\n",
       "    .dataframe thead th {\n",
       "        text-align: right;\n",
       "    }\n",
       "</style>\n",
       "<table border=\"1\" class=\"dataframe\">\n",
       "  <thead>\n",
       "    <tr style=\"text-align: right;\">\n",
       "      <th></th>\n",
       "      <th>Patient ID</th>\n",
       "      <th>Sex</th>\n",
       "      <th>Age</th>\n",
       "      <th>Grade</th>\n",
       "      <th>Histological type</th>\n",
       "      <th>MSKCC type</th>\n",
       "      <th>Site of primary STS</th>\n",
       "      <th>Status (NED, AWD, D)</th>\n",
       "      <th>Treatment</th>\n",
       "    </tr>\n",
       "  </thead>\n",
       "  <tbody>\n",
       "    <tr>\n",
       "      <th>3</th>\n",
       "      <td>STS_015</td>\n",
       "      <td>Female</td>\n",
       "      <td>54</td>\n",
       "      <td>Intermediate</td>\n",
       "      <td>synovial sarcoma</td>\n",
       "      <td>Leiomyosarcoma</td>\n",
       "      <td>right thigh</td>\n",
       "      <td>NED</td>\n",
       "      <td>Radiotherapy + Surgery</td>\n",
       "    </tr>\n",
       "    <tr>\n",
       "      <th>37</th>\n",
       "      <td>STS_015</td>\n",
       "      <td>Female</td>\n",
       "      <td>66</td>\n",
       "      <td>Intermediate</td>\n",
       "      <td>pleiomorphic leiomyosarcoma</td>\n",
       "      <td>Leiomyosarcoma</td>\n",
       "      <td>parascapusular</td>\n",
       "      <td>NED</td>\n",
       "      <td>Radiotherapy + Surgery</td>\n",
       "    </tr>\n",
       "    <tr>\n",
       "      <th>43</th>\n",
       "      <td>STS_015</td>\n",
       "      <td>Female</td>\n",
       "      <td>53</td>\n",
       "      <td>Intermediate</td>\n",
       "      <td>pleiomorphic leiomyosarcoma</td>\n",
       "      <td>Leiomyosarcoma</td>\n",
       "      <td>right thigh</td>\n",
       "      <td>NED</td>\n",
       "      <td>Radiotherapy + Surgery</td>\n",
       "    </tr>\n",
       "    <tr>\n",
       "      <th>68</th>\n",
       "      <td>STS_015</td>\n",
       "      <td>Female</td>\n",
       "      <td>57</td>\n",
       "      <td>Intermediate</td>\n",
       "      <td>myxofibrosarcoma</td>\n",
       "      <td>Leiomyosarcoma</td>\n",
       "      <td>left buttock</td>\n",
       "      <td>NED</td>\n",
       "      <td>Radiotherapy + Surgery</td>\n",
       "    </tr>\n",
       "    <tr>\n",
       "      <th>82</th>\n",
       "      <td>STS_015</td>\n",
       "      <td>Female</td>\n",
       "      <td>61</td>\n",
       "      <td>Intermediate</td>\n",
       "      <td>leiomyosarcoma</td>\n",
       "      <td>Leiomyosarcoma</td>\n",
       "      <td>right buttock</td>\n",
       "      <td>NED</td>\n",
       "      <td>Radiotherapy + Surgery</td>\n",
       "    </tr>\n",
       "    <tr>\n",
       "      <th>85</th>\n",
       "      <td>STS_015</td>\n",
       "      <td>Female</td>\n",
       "      <td>71</td>\n",
       "      <td>Intermediate</td>\n",
       "      <td>pleiomorphic leiomyosarcoma</td>\n",
       "      <td>Synovial sarcoma</td>\n",
       "      <td>left thigh</td>\n",
       "      <td>D</td>\n",
       "      <td>Surgery + Chemotherapy</td>\n",
       "    </tr>\n",
       "    <tr>\n",
       "      <th>95</th>\n",
       "      <td>STS_015</td>\n",
       "      <td>Male</td>\n",
       "      <td>68</td>\n",
       "      <td>High</td>\n",
       "      <td>pleiomorphic spindle cell undifferentiated</td>\n",
       "      <td>Leiomyosarcoma</td>\n",
       "      <td>left thigh</td>\n",
       "      <td>D</td>\n",
       "      <td>Radiotherapy + Surgery</td>\n",
       "    </tr>\n",
       "    <tr>\n",
       "      <th>121</th>\n",
       "      <td>STS_015</td>\n",
       "      <td>Female</td>\n",
       "      <td>58</td>\n",
       "      <td>Intermediate</td>\n",
       "      <td>pleiomorphic leiomyosarcoma</td>\n",
       "      <td>MFH</td>\n",
       "      <td>left biceps</td>\n",
       "      <td>NED</td>\n",
       "      <td>Radiotherapy + Surgery</td>\n",
       "    </tr>\n",
       "    <tr>\n",
       "      <th>125</th>\n",
       "      <td>STS_015</td>\n",
       "      <td>Female</td>\n",
       "      <td>80</td>\n",
       "      <td>Intermediate</td>\n",
       "      <td>pleiomorphic leiomyosarcoma</td>\n",
       "      <td>Leiomyosarcoma</td>\n",
       "      <td>right thigh</td>\n",
       "      <td>NED</td>\n",
       "      <td>Radiotherapy + Surgery</td>\n",
       "    </tr>\n",
       "    <tr>\n",
       "      <th>129</th>\n",
       "      <td>STS_015</td>\n",
       "      <td>Male</td>\n",
       "      <td>69</td>\n",
       "      <td>High</td>\n",
       "      <td>myxofibrosarcoma</td>\n",
       "      <td>Synovial sarcoma</td>\n",
       "      <td>right parascapusular</td>\n",
       "      <td>AWD</td>\n",
       "      <td>Surgery + Chemotherapy</td>\n",
       "    </tr>\n",
       "    <tr>\n",
       "      <th>191</th>\n",
       "      <td>STS_015</td>\n",
       "      <td>Female</td>\n",
       "      <td>40</td>\n",
       "      <td>Intermediate</td>\n",
       "      <td>sclerosing epithelioid fibrosarcoma</td>\n",
       "      <td>Synovial sarcoma</td>\n",
       "      <td>right thigh</td>\n",
       "      <td>NED</td>\n",
       "      <td>Radiotherapy + Surgery</td>\n",
       "    </tr>\n",
       "    <tr>\n",
       "      <th>249</th>\n",
       "      <td>STS_015</td>\n",
       "      <td>Female</td>\n",
       "      <td>52</td>\n",
       "      <td>Intermediate</td>\n",
       "      <td>pleiomorphic leiomyosarcoma</td>\n",
       "      <td>MFH</td>\n",
       "      <td>left buttock</td>\n",
       "      <td>NED</td>\n",
       "      <td>Radiotherapy + Surgery</td>\n",
       "    </tr>\n",
       "    <tr>\n",
       "      <th>284</th>\n",
       "      <td>STS_015</td>\n",
       "      <td>Female</td>\n",
       "      <td>71</td>\n",
       "      <td>Intermediate</td>\n",
       "      <td>leiomyosarcoma</td>\n",
       "      <td>Synovial sarcoma</td>\n",
       "      <td>right thigh</td>\n",
       "      <td>NED</td>\n",
       "      <td>Radiotherapy + Surgery</td>\n",
       "    </tr>\n",
       "    <tr>\n",
       "      <th>337</th>\n",
       "      <td>STS_015</td>\n",
       "      <td>Female</td>\n",
       "      <td>53</td>\n",
       "      <td>Intermediate</td>\n",
       "      <td>malignant solitary fibrous tumor</td>\n",
       "      <td>Leiomyosarcoma</td>\n",
       "      <td>right thigh</td>\n",
       "      <td>D</td>\n",
       "      <td>Radiotherapy + Surgery</td>\n",
       "    </tr>\n",
       "    <tr>\n",
       "      <th>346</th>\n",
       "      <td>STS_015</td>\n",
       "      <td>Female</td>\n",
       "      <td>47</td>\n",
       "      <td>Intermediate</td>\n",
       "      <td>epithelioid sarcoma</td>\n",
       "      <td>MFH</td>\n",
       "      <td>left biceps</td>\n",
       "      <td>NED</td>\n",
       "      <td>Radiotherapy + Surgery</td>\n",
       "    </tr>\n",
       "    <tr>\n",
       "      <th>369</th>\n",
       "      <td>STS_015</td>\n",
       "      <td>Female</td>\n",
       "      <td>37</td>\n",
       "      <td>Intermediate</td>\n",
       "      <td>synovial sarcoma</td>\n",
       "      <td>Synovial sarcoma</td>\n",
       "      <td>right buttock</td>\n",
       "      <td>NED</td>\n",
       "      <td>Surgery + Chemotherapy</td>\n",
       "    </tr>\n",
       "    <tr>\n",
       "      <th>422</th>\n",
       "      <td>STS_015</td>\n",
       "      <td>Male</td>\n",
       "      <td>72</td>\n",
       "      <td>High</td>\n",
       "      <td>poorly differentiated synovial sarcoma</td>\n",
       "      <td>Leiomyosarcoma</td>\n",
       "      <td>right parascapusular</td>\n",
       "      <td>AWD</td>\n",
       "      <td>Radiotherapy + Surgery + Chemotherapy</td>\n",
       "    </tr>\n",
       "    <tr>\n",
       "      <th>475</th>\n",
       "      <td>STS_015</td>\n",
       "      <td>Female</td>\n",
       "      <td>39</td>\n",
       "      <td>Intermediate</td>\n",
       "      <td>synovial sarcoma</td>\n",
       "      <td>MFH</td>\n",
       "      <td>right thigh</td>\n",
       "      <td>D</td>\n",
       "      <td>Radiotherapy + Surgery</td>\n",
       "    </tr>\n",
       "    <tr>\n",
       "      <th>487</th>\n",
       "      <td>STS_015</td>\n",
       "      <td>Female</td>\n",
       "      <td>31</td>\n",
       "      <td>Intermediate</td>\n",
       "      <td>malignant solitary fibrous tumor</td>\n",
       "      <td>Leiomyosarcoma</td>\n",
       "      <td>parascapusular</td>\n",
       "      <td>NED</td>\n",
       "      <td>Radiotherapy + Surgery</td>\n",
       "    </tr>\n",
       "  </tbody>\n",
       "</table>\n",
       "</div>"
      ],
      "text/plain": [
       "    Patient ID     Sex  Age         Grade  \\\n",
       "3      STS_015  Female   54  Intermediate   \n",
       "37     STS_015  Female   66  Intermediate   \n",
       "43     STS_015  Female   53  Intermediate   \n",
       "68     STS_015  Female   57  Intermediate   \n",
       "82     STS_015  Female   61  Intermediate   \n",
       "85     STS_015  Female   71  Intermediate   \n",
       "95     STS_015    Male   68          High   \n",
       "121    STS_015  Female   58  Intermediate   \n",
       "125    STS_015  Female   80  Intermediate   \n",
       "129    STS_015    Male   69          High   \n",
       "191    STS_015  Female   40  Intermediate   \n",
       "249    STS_015  Female   52  Intermediate   \n",
       "284    STS_015  Female   71  Intermediate   \n",
       "337    STS_015  Female   53  Intermediate   \n",
       "346    STS_015  Female   47  Intermediate   \n",
       "369    STS_015  Female   37  Intermediate   \n",
       "422    STS_015    Male   72          High   \n",
       "475    STS_015  Female   39  Intermediate   \n",
       "487    STS_015  Female   31  Intermediate   \n",
       "\n",
       "                              Histological type        MSKCC type  \\\n",
       "3                              synovial sarcoma    Leiomyosarcoma   \n",
       "37                  pleiomorphic leiomyosarcoma    Leiomyosarcoma   \n",
       "43                  pleiomorphic leiomyosarcoma    Leiomyosarcoma   \n",
       "68                             myxofibrosarcoma    Leiomyosarcoma   \n",
       "82                               leiomyosarcoma    Leiomyosarcoma   \n",
       "85                  pleiomorphic leiomyosarcoma  Synovial sarcoma   \n",
       "95   pleiomorphic spindle cell undifferentiated    Leiomyosarcoma   \n",
       "121                 pleiomorphic leiomyosarcoma               MFH   \n",
       "125                 pleiomorphic leiomyosarcoma    Leiomyosarcoma   \n",
       "129                            myxofibrosarcoma  Synovial sarcoma   \n",
       "191         sclerosing epithelioid fibrosarcoma  Synovial sarcoma   \n",
       "249                 pleiomorphic leiomyosarcoma               MFH   \n",
       "284                              leiomyosarcoma  Synovial sarcoma   \n",
       "337            malignant solitary fibrous tumor    Leiomyosarcoma   \n",
       "346                         epithelioid sarcoma               MFH   \n",
       "369                            synovial sarcoma  Synovial sarcoma   \n",
       "422      poorly differentiated synovial sarcoma    Leiomyosarcoma   \n",
       "475                            synovial sarcoma               MFH   \n",
       "487            malignant solitary fibrous tumor    Leiomyosarcoma   \n",
       "\n",
       "      Site of primary STS Status (NED, AWD, D)  \\\n",
       "3             right thigh                  NED   \n",
       "37         parascapusular                  NED   \n",
       "43            right thigh                  NED   \n",
       "68           left buttock                  NED   \n",
       "82          right buttock                  NED   \n",
       "85             left thigh                    D   \n",
       "95             left thigh                    D   \n",
       "121           left biceps                  NED   \n",
       "125           right thigh                  NED   \n",
       "129  right parascapusular                  AWD   \n",
       "191           right thigh                  NED   \n",
       "249          left buttock                  NED   \n",
       "284           right thigh                  NED   \n",
       "337           right thigh                    D   \n",
       "346           left biceps                  NED   \n",
       "369         right buttock                  NED   \n",
       "422  right parascapusular                  AWD   \n",
       "475           right thigh                    D   \n",
       "487        parascapusular                  NED   \n",
       "\n",
       "                                 Treatment  \n",
       "3                   Radiotherapy + Surgery  \n",
       "37                  Radiotherapy + Surgery  \n",
       "43                  Radiotherapy + Surgery  \n",
       "68                  Radiotherapy + Surgery  \n",
       "82                  Radiotherapy + Surgery  \n",
       "85                  Surgery + Chemotherapy  \n",
       "95                  Radiotherapy + Surgery  \n",
       "121                 Radiotherapy + Surgery  \n",
       "125                 Radiotherapy + Surgery  \n",
       "129                 Surgery + Chemotherapy  \n",
       "191                 Radiotherapy + Surgery  \n",
       "249                 Radiotherapy + Surgery  \n",
       "284                 Radiotherapy + Surgery  \n",
       "337                 Radiotherapy + Surgery  \n",
       "346                 Radiotherapy + Surgery  \n",
       "369                 Surgery + Chemotherapy  \n",
       "422  Radiotherapy + Surgery + Chemotherapy  \n",
       "475                 Radiotherapy + Surgery  \n",
       "487                 Radiotherapy + Surgery  "
      ]
     },
     "execution_count": 6,
     "metadata": {},
     "output_type": "execute_result"
    }
   ],
   "source": [
    "df[df['Patient ID'] == 'STS_015']"
   ]
  },
  {
   "cell_type": "markdown",
   "metadata": {},
   "source": [
    "The presence of Patient ID among multiple individuals in the displayed table can pose challenges in the analysis, especially when one individual may have multiple tumor types. Additionally, it is worth noting that the information provided indicates that \"Patient ID\" serves as a unique identifier for each patient. 🚩"
   ]
  },
  {
   "cell_type": "code",
   "execution_count": 7,
   "metadata": {},
   "outputs": [
    {
     "name": "stdout",
     "output_type": "stream",
     "text": [
      "Pleiomorphic leiomyosarcoma\n",
      "Intermediate: 60 times\n",
      "High: 44 times\n"
     ]
    }
   ],
   "source": [
    "df_pl = df[df['Histological type'] == 'pleiomorphic leiomyosarcoma']\n",
    "\n",
    "unique_values_counts = df_pl['Grade'].value_counts()\n",
    "print(\"Pleiomorphic leiomyosarcoma\")\n",
    "for value, count in unique_values_counts.items():\n",
    "    print(f\"{value}: {count} times\")"
   ]
  },
  {
   "cell_type": "code",
   "execution_count": 8,
   "metadata": {},
   "outputs": [
    {
     "data": {
      "image/png": "[encoded data removed]",
      "text/plain": [
       "<Figure size 600x400 with 1 Axes>"
      ]
     },
     "metadata": {},
     "output_type": "display_data"
    }
   ],
   "source": [
    "df_pl = df[df['Histological type'] == 'pleiomorphic leiomyosarcoma']\n",
    "\n",
    "sns.set_style('whitegrid')\n",
    "sns.set(font=\"sans-serif\")\n",
    "\n",
    "plt.figure(figsize=(6, 4))\n",
    "sns.kdeplot(data=df_pl[df_pl['Sex'] == 'Male']['Age'], label='Male', color='#16558F', fill=True)\n",
    "sns.kdeplot(data=df_pl[df_pl['Sex'] == 'Female']['Age'], label='Female', color='#61B0B7', fill=True)\n",
    "\n",
    "plt.xlabel('Age', fontsize=12)\n",
    "plt.ylabel('Density', fontsize=12)\n",
    "plt.title('Age Distribution of Pleiomorphic Leiomyosarcoma by Gender', fontsize=12)\n",
    "\n",
    "plt.legend()\n",
    "\n",
    "ax = plt.gca()\n",
    "ax.set_facecolor('white')\n",
    "ax.set_frame_on(True)\n",
    "\n",
    "plt.show()\n"
   ]
  },
  {
   "cell_type": "markdown",
   "metadata": {},
   "source": [
    "#### MSKCC Types by Gender"
   ]
  },
  {
   "cell_type": "code",
   "execution_count": 10,
   "metadata": {},
   "outputs": [
    {
     "data": {
      "application/vnd.plotly.v1+json": {
       "config": {
        "plotlyServerURL": "https://plot.ly"
       },
       "data": [
        {
         "domain": {
          "column": 0
         },
         "hole": 0.5,
         "hoverinfo": "label+percent+name",
         "labels": [
          "MFH",
          "Synovial sarcoma",
          "Leiomyosarcoma"
         ],
         "marker": {
          "colors": [
           "#16558F",
           "#0583D2",
           "#61B0B7"
          ]
         },
         "name": "Male MSKCC Type",
         "type": "pie",
         "values": [
          146,
          33,
          21
         ]
        },
        {
         "domain": {
          "column": 1
         },
         "hole": 0.5,
         "hoverinfo": "label+percent+name",
         "labels": [
          "MFH",
          "Synovial sarcoma",
          "Leiomyosarcoma"
         ],
         "marker": {
          "colors": [
           "#16558F",
           "#0583D2",
           "#61B0B7"
          ]
         },
         "name": "Female MSKCC Type",
         "type": "pie",
         "values": [
          79,
          98,
          123
         ]
        }
       ],
       "layout": {
        "annotations": [
         {
          "font": {
           "size": 20
          },
          "showarrow": false,
          "text": "Male",
          "x": 0.21,
          "y": 0.5
         },
         {
          "font": {
           "size": 20
          },
          "showarrow": false,
          "text": "Female",
          "x": 0.805,
          "y": 0.5
         }
        ],
        "grid": {
         "columns": 2,
         "rows": 1
        },
        "template": {
         "data": {
          "bar": [
           {
            "error_x": {
             "color": "#2a3f5f"
            },
            "error_y": {
             "color": "#2a3f5f"
            },
            "marker": {
             "line": {
              "color": "#E5ECF6",
              "width": 0.5
             },
             "pattern": {
              "fillmode": "overlay",
              "size": 10,
              "solidity": 0.2
             }
            },
            "type": "bar"
           }
          ],
          "barpolar": [
           {
            "marker": {
             "line": {
              "color": "#E5ECF6",
              "width": 0.5
             },
             "pattern": {
              "fillmode": "overlay",
              "size": 10,
              "solidity": 0.2
             }
            },
            "type": "barpolar"
           }
          ],
          "carpet": [
           {
            "aaxis": {
             "endlinecolor": "#2a3f5f",
             "gridcolor": "white",
             "linecolor": "white",
             "minorgridcolor": "white",
             "startlinecolor": "#2a3f5f"
            },
            "baxis": {
             "endlinecolor": "#2a3f5f",
             "gridcolor": "white",
             "linecolor": "white",
             "minorgridcolor": "white",
             "startlinecolor": "#2a3f5f"
            },
            "type": "carpet"
           }
          ],
          "choropleth": [
           {
            "colorbar": {
             "outlinewidth": 0,
             "ticks": ""
            },
            "type": "choropleth"
           }
          ],
          "contour": [
           {
            "colorbar": {
             "outlinewidth": 0,
             "ticks": ""
            },
            "colorscale": [
             [
              0,
              "#0d0887"
             ],
             [
              0.1111111111111111,
              "#46039f"
             ],
             [
              0.2222222222222222,
              "#7201a8"
             ],
             [
              0.3333333333333333,
              "#9c179e"
             ],
             [
              0.4444444444444444,
              "#bd3786"
             ],
             [
              0.5555555555555556,
              "#d8576b"
             ],
             [
              0.6666666666666666,
              "#ed7953"
             ],
             [
              0.7777777777777778,
              "#fb9f3a"
             ],
             [
              0.8888888888888888,
              "#fdca26"
             ],
             [
              1,
              "#f0f921"
             ]
            ],
            "type": "contour"
           }
          ],
          "contourcarpet": [
           {
            "colorbar": {
             "outlinewidth": 0,
             "ticks": ""
            },
            "type": "contourcarpet"
           }
          ],
          "heatmap": [
           {
            "colorbar": {
             "outlinewidth": 0,
             "ticks": ""
            },
            "colorscale": [
             [
              0,
              "#0d0887"
             ],
             [
              0.1111111111111111,
              "#46039f"
             ],
             [
              0.2222222222222222,
              "#7201a8"
             ],
             [
              0.3333333333333333,
              "#9c179e"
             ],
             [
              0.4444444444444444,
              "#bd3786"
             ],
             [
              0.5555555555555556,
              "#d8576b"
             ],
             [
              0.6666666666666666,
              "#ed7953"
             ],
             [
              0.7777777777777778,
              "#fb9f3a"
             ],
             [
              0.8888888888888888,
              "#fdca26"
             ],
             [
              1,
              "#f0f921"
             ]
            ],
            "type": "heatmap"
           }
          ],
          "heatmapgl": [
           {
            "colorbar": {
             "outlinewidth": 0,
             "ticks": ""
            },
            "colorscale": [
             [
              0,
              "#0d0887"
             ],
             [
              0.1111111111111111,
              "#46039f"
             ],
             [
              0.2222222222222222,
              "#7201a8"
             ],
             [
              0.3333333333333333,
              "#9c179e"
             ],
             [
              0.4444444444444444,
              "#bd3786"
             ],
             [
              0.5555555555555556,
              "#d8576b"
             ],
             [
              0.6666666666666666,
              "#ed7953"
             ],
             [
              0.7777777777777778,
              "#fb9f3a"
             ],
             [
              0.8888888888888888,
              "#fdca26"
             ],
             [
              1,
              "#f0f921"
             ]
            ],
            "type": "heatmapgl"
           }
          ],
          "histogram": [
           {
            "marker": {
             "pattern": {
              "fillmode": "overlay",
              "size": 10,
              "solidity": 0.2
             }
            },
            "type": "histogram"
           }
          ],
          "histogram2d": [
           {
            "colorbar": {
             "outlinewidth": 0,
             "ticks": ""
            },
            "colorscale": [
             [
              0,
              "#0d0887"
             ],
             [
              0.1111111111111111,
              "#46039f"
             ],
             [
              0.2222222222222222,
              "#7201a8"
             ],
             [
              0.3333333333333333,
              "#9c179e"
             ],
             [
              0.4444444444444444,
              "#bd3786"
             ],
             [
              0.5555555555555556,
              "#d8576b"
             ],
             [
              0.6666666666666666,
              "#ed7953"
             ],
             [
              0.7777777777777778,
              "#fb9f3a"
             ],
             [
              0.8888888888888888,
              "#fdca26"
             ],
             [
              1,
              "#f0f921"
             ]
            ],
            "type": "histogram2d"
           }
          ],
          "histogram2dcontour": [
           {
            "colorbar": {
             "outlinewidth": 0,
             "ticks": ""
            },
            "colorscale": [
             [
              0,
              "#0d0887"
             ],
             [
              0.1111111111111111,
              "#46039f"
             ],
             [
              0.2222222222222222,
              "#7201a8"
             ],
             [
              0.3333333333333333,
              "#9c179e"
             ],
             [
              0.4444444444444444,
              "#bd3786"
             ],
             [
              0.5555555555555556,
              "#d8576b"
             ],
             [
              0.6666666666666666,
              "#ed7953"
             ],
             [
              0.7777777777777778,
              "#fb9f3a"
             ],
             [
              0.8888888888888888,
              "#fdca26"
             ],
             [
              1,
              "#f0f921"
             ]
            ],
            "type": "histogram2dcontour"
           }
          ],
          "mesh3d": [
           {
            "colorbar": {
             "outlinewidth": 0,
             "ticks": ""
            },
            "type": "mesh3d"
           }
          ],
          "parcoords": [
           {
            "line": {
             "colorbar": {
              "outlinewidth": 0,
              "ticks": ""
             }
            },
            "type": "parcoords"
           }
          ],
          "pie": [
           {
            "automargin": true,
            "type": "pie"
           }
          ],
          "scatter": [
           {
            "fillpattern": {
             "fillmode": "overlay",
             "size": 10,
             "solidity": 0.2
            },
            "type": "scatter"
           }
          ],
          "scatter3d": [
           {
            "line": {
             "colorbar": {
              "outlinewidth": 0,
              "ticks": ""
             }
            },
            "marker": {
             "colorbar": {
              "outlinewidth": 0,
              "ticks": ""
             }
            },
            "type": "scatter3d"
           }
          ],
          "scattercarpet": [
           {
            "marker": {
             "colorbar": {
              "outlinewidth": 0,
              "ticks": ""
             }
            },
            "type": "scattercarpet"
           }
          ],
          "scattergeo": [
           {
            "marker": {
             "colorbar": {
              "outlinewidth": 0,
              "ticks": ""
             }
            },
            "type": "scattergeo"
           }
          ],
          "scattergl": [
           {
            "marker": {
             "colorbar": {
              "outlinewidth": 0,
              "ticks": ""
             }
            },
            "type": "scattergl"
           }
          ],
          "scattermapbox": [
           {
            "marker": {
             "colorbar": {
              "outlinewidth": 0,
              "ticks": ""
             }
            },
            "type": "scattermapbox"
           }
          ],
          "scatterpolar": [
           {
            "marker": {
             "colorbar": {
              "outlinewidth": 0,
              "ticks": ""
             }
            },
            "type": "scatterpolar"
           }
          ],
          "scatterpolargl": [
           {
            "marker": {
             "colorbar": {
              "outlinewidth": 0,
              "ticks": ""
             }
            },
            "type": "scatterpolargl"
           }
          ],
          "scatterternary": [
           {
            "marker": {
             "colorbar": {
              "outlinewidth": 0,
              "ticks": ""
             }
            },
            "type": "scatterternary"
           }
          ],
          "surface": [
           {
            "colorbar": {
             "outlinewidth": 0,
             "ticks": ""
            },
            "colorscale": [
             [
              0,
              "#0d0887"
             ],
             [
              0.1111111111111111,
              "#46039f"
             ],
             [
              0.2222222222222222,
              "#7201a8"
             ],
             [
              0.3333333333333333,
              "#9c179e"
             ],
             [
              0.4444444444444444,
              "#bd3786"
             ],
             [
              0.5555555555555556,
              "#d8576b"
             ],
             [
              0.6666666666666666,
              "#ed7953"
             ],
             [
              0.7777777777777778,
              "#fb9f3a"
             ],
             [
              0.8888888888888888,
              "#fdca26"
             ],
             [
              1,
              "#f0f921"
             ]
            ],
            "type": "surface"
           }
          ],
          "table": [
           {
            "cells": {
             "fill": {
              "color": "#EBF0F8"
             },
             "line": {
              "color": "white"
             }
            },
            "header": {
             "fill": {
              "color": "#C8D4E3"
             },
             "line": {
              "color": "white"
             }
            },
            "type": "table"
           }
          ]
         },
         "layout": {
          "annotationdefaults": {
           "arrowcolor": "#2a3f5f",
           "arrowhead": 0,
           "arrowwidth": 1
          },
          "autotypenumbers": "strict",
          "coloraxis": {
           "colorbar": {
            "outlinewidth": 0,
            "ticks": ""
           }
          },
          "colorscale": {
           "diverging": [
            [
             0,
             "#8e0152"
            ],
            [
             0.1,
             "#c51b7d"
            ],
            [
             0.2,
             "#de77ae"
            ],
            [
             0.3,
             "#f1b6da"
            ],
            [
             0.4,
             "#fde0ef"
            ],
            [
             0.5,
             "#f7f7f7"
            ],
            [
             0.6,
             "#e6f5d0"
            ],
            [
             0.7,
             "#b8e186"
            ],
            [
             0.8,
             "#7fbc41"
            ],
            [
             0.9,
             "#4d9221"
            ],
            [
             1,
             "#276419"
            ]
           ],
           "sequential": [
            [
             0,
             "#0d0887"
            ],
            [
             0.1111111111111111,
             "#46039f"
            ],
            [
             0.2222222222222222,
             "#7201a8"
            ],
            [
             0.3333333333333333,
             "#9c179e"
            ],
            [
             0.4444444444444444,
             "#bd3786"
            ],
            [
             0.5555555555555556,
             "#d8576b"
            ],
            [
             0.6666666666666666,
             "#ed7953"
            ],
            [
             0.7777777777777778,
             "#fb9f3a"
            ],
            [
             0.8888888888888888,
             "#fdca26"
            ],
            [
             1,
             "#f0f921"
            ]
           ],
           "sequentialminus": [
            [
             0,
             "#0d0887"
            ],
            [
             0.1111111111111111,
             "#46039f"
            ],
            [
             0.2222222222222222,
             "#7201a8"
            ],
            [
             0.3333333333333333,
             "#9c179e"
            ],
            [
             0.4444444444444444,
             "#bd3786"
            ],
            [
             0.5555555555555556,
             "#d8576b"
            ],
            [
             0.6666666666666666,
             "#ed7953"
            ],
            [
             0.7777777777777778,
             "#fb9f3a"
            ],
            [
             0.8888888888888888,
             "#fdca26"
            ],
            [
             1,
             "#f0f921"
            ]
           ]
          },
          "colorway": [
           "#636efa",
           "#EF553B",
           "#00cc96",
           "#ab63fa",
           "#FFA15A",
           "#19d3f3",
           "#FF6692",
           "#B6E880",
           "#FF97FF",
           "#FECB52"
          ],
          "font": {
           "color": "#2a3f5f"
          },
          "geo": {
           "bgcolor": "white",
           "lakecolor": "white",
           "landcolor": "#E5ECF6",
           "showlakes": true,
           "showland": true,
           "subunitcolor": "white"
          },
          "hoverlabel": {
           "align": "left"
          },
          "hovermode": "closest",
          "mapbox": {
           "style": "light"
          },
          "paper_bgcolor": "white",
          "plot_bgcolor": "#E5ECF6",
          "polar": {
           "angularaxis": {
            "gridcolor": "white",
            "linecolor": "white",
            "ticks": ""
           },
           "bgcolor": "#E5ECF6",
           "radialaxis": {
            "gridcolor": "white",
            "linecolor": "white",
            "ticks": ""
           }
          },
          "scene": {
           "xaxis": {
            "backgroundcolor": "#E5ECF6",
            "gridcolor": "white",
            "gridwidth": 2,
            "linecolor": "white",
            "showbackground": true,
            "ticks": "",
            "zerolinecolor": "white"
           },
           "yaxis": {
            "backgroundcolor": "#E5ECF6",
            "gridcolor": "white",
            "gridwidth": 2,
            "linecolor": "white",
            "showbackground": true,
            "ticks": "",
            "zerolinecolor": "white"
           },
           "zaxis": {
            "backgroundcolor": "#E5ECF6",
            "gridcolor": "white",
            "gridwidth": 2,
            "linecolor": "white",
            "showbackground": true,
            "ticks": "",
            "zerolinecolor": "white"
           }
          },
          "shapedefaults": {
           "line": {
            "color": "#2a3f5f"
           }
          },
          "ternary": {
           "aaxis": {
            "gridcolor": "white",
            "linecolor": "white",
            "ticks": ""
           },
           "baxis": {
            "gridcolor": "white",
            "linecolor": "white",
            "ticks": ""
           },
           "bgcolor": "#E5ECF6",
           "caxis": {
            "gridcolor": "white",
            "linecolor": "white",
            "ticks": ""
           }
          },
          "title": {
           "x": 0.05
          },
          "xaxis": {
           "automargin": true,
           "gridcolor": "white",
           "linecolor": "white",
           "ticks": "",
           "title": {
            "standoff": 15
           },
           "zerolinecolor": "white",
           "zerolinewidth": 2
          },
          "yaxis": {
           "automargin": true,
           "gridcolor": "white",
           "linecolor": "white",
           "ticks": "",
           "title": {
            "standoff": 15
           },
           "zerolinecolor": "white",
           "zerolinewidth": 2
          }
         }
        },
        "title": {
         "font": {
          "size": 20
         },
         "text": "MSKCC Types by Gender (Male vs. Female)",
         "x": 0.5
        }
       }
      }
     },
     "metadata": {},
     "output_type": "display_data"
    }
   ],
   "source": [
    "male_data = df[df['Sex'] == 'Male']\n",
    "female_data = df[df['Sex'] == 'Female']\n",
    "\n",
    "male_mskcc_counts = male_data['MSKCC type'].value_counts()\n",
    "female_mskcc_counts = female_data['MSKCC type'].value_counts()\n",
    "\n",
    "categories = male_mskcc_counts.index\n",
    "\n",
    "blue_palette = ['#16558F', '#0583D2', '#61B0B7']\n",
    "\n",
    "data1 = {\n",
    "    \"values\": male_mskcc_counts.loc[categories].values,\n",
    "    \"labels\": categories,\n",
    "    \"domain\": {\"column\": 0},\n",
    "    \"name\": \"Male MSKCC Type\",\n",
    "    \"hoverinfo\": \"label+percent+name\",\n",
    "    \"hole\": 0.5,\n",
    "    \"type\": \"pie\",\n",
    "    \"marker\": {\"colors\": blue_palette}  \n",
    "}\n",
    "\n",
    "data2 = {\n",
    "    \"values\": female_mskcc_counts.loc[categories].values,\n",
    "    \"labels\": categories,\n",
    "    \"domain\": {\"column\": 1},\n",
    "    \"name\": \"Female MSKCC Type\",\n",
    "    \"hoverinfo\": \"label+percent+name\",\n",
    "    \"hole\": 0.5,\n",
    "    \"type\": \"pie\",\n",
    "    \"marker\": {\"colors\": blue_palette}  \n",
    "}\n",
    "\n",
    "data = [data1, data2]\n",
    "\n",
    "\n",
    "layout = go.Layout(\n",
    "    {\n",
    "        \"title\": {\n",
    "            \"text\": \"MSKCC Types by Gender (Male vs. Female)\",\n",
    "            \"font\": {\n",
    "                \"size\": 20\n",
    "            },\n",
    "            \"x\": 0.5  # Center the title\n",
    "        },\n",
    "        \"grid\": {\"rows\": 1, \"columns\": 2},\n",
    "        \"annotations\": [\n",
    "            {\n",
    "                \"font\": {\"size\": 20},\n",
    "                \"showarrow\": False,\n",
    "                \"text\": \"Male\",\n",
    "                \"x\": 0.21,\n",
    "                \"y\": 0.5\n",
    "            },\n",
    "            {\n",
    "                \"font\": {\"size\": 20},\n",
    "                \"showarrow\": False,\n",
    "                \"text\": \"Female\",\n",
    "                \"x\": 0.805,\n",
    "                \"y\": 0.5\n",
    "            }\n",
    "        ]\n",
    "    }\n",
    ")\n",
    "\n",
    "fig = go.Figure(data=data, layout=layout)\n",
    "fig.show()"
   ]
  },
  {
   "cell_type": "markdown",
   "metadata": {},
   "source": [
    "#### Age Distribution"
   ]
  },
  {
   "cell_type": "code",
   "execution_count": 12,
   "metadata": {},
   "outputs": [
    {
     "data": {
      "image/png": "[encoded data removed]",
      "text/plain": [
       "<Figure size 600x400 with 1 Axes>"
      ]
     },
     "metadata": {},
     "output_type": "display_data"
    }
   ],
   "source": [
    "male_data = df[df['Sex'] == 'Male']\n",
    "female_data = df[df['Sex'] == 'Female']\n",
    "\n",
    "sns.set_style('whitegrid') \n",
    "sns.set(font=\"sans-serif\")\n",
    "\n",
    "plt.figure(figsize=(6, 4))\n",
    "sns.kdeplot(data=male_data['Age'], label='Male', color='#16558F', fill=True)\n",
    "\n",
    "sns.kdeplot(data=female_data['Age'], label='Female', color='#61B0B7', fill=True)\n",
    "\n",
    "plt.xlabel('Age', fontsize=12)\n",
    "plt.ylabel('Density', fontsize=12)\n",
    "plt.title('Age Distribution by Gender', fontsize=12)\n",
    "\n",
    "plt.legend()\n",
    "\n",
    "ax = plt.gca()\n",
    "ax.set_facecolor('white')\n",
    "ax.set_frame_on(True)\n",
    "\n",
    "plt.show()"
   ]
  },
  {
   "cell_type": "markdown",
   "metadata": {},
   "source": [
    "#### Site of Primary STS by Gender"
   ]
  },
  {
   "cell_type": "code",
   "execution_count": 13,
   "metadata": {},
   "outputs": [
    {
     "name": "stdout",
     "output_type": "stream",
     "text": [
      "Male Site of primary STS (Percentages):\n",
      "Site of primary STS\n",
      "left thigh              47.0\n",
      "right buttock           17.0\n",
      "right thigh             12.5\n",
      "right parascapusular    11.0\n",
      "left buttock             7.5\n",
      "parascapusular           3.0\n",
      "left biceps              2.0\n",
      "Name: count, dtype: float64\n",
      "\n",
      "Female Site of primary STS (Percentages):\n",
      "Site of primary STS\n",
      "right thigh             36.666667\n",
      "left thigh              19.333333\n",
      "right buttock           12.666667\n",
      "parascapusular          11.000000\n",
      "left biceps             10.666667\n",
      "left buttock             7.000000\n",
      "right parascapusular     2.666667\n",
      "Name: count, dtype: float64\n"
     ]
    }
   ],
   "source": [
    "male_data = df[df['Sex'] == 'Male']\n",
    "female_data = df[df['Sex'] == 'Female']\n",
    "\n",
    "total_male_count = len(male_data)\n",
    "total_female_count = len(female_data)\n",
    "\n",
    "male_site_counts = male_data['Site of primary STS'].value_counts()\n",
    "female_site_counts = female_data['Site of primary STS'].value_counts()\n",
    "\n",
    "male_site_per = (male_site_counts / total_male_count) * 100\n",
    "fem_site_per = (female_site_counts / total_female_count) * 100\n",
    "\n",
    "print(\"Male Site of primary STS (Percentages):\")\n",
    "print(male_site_per)\n",
    "print(\"\\nFemale Site of primary STS (Percentages):\")\n",
    "print(fem_site_per)"
   ]
  },
  {
   "cell_type": "code",
   "execution_count": 14,
   "metadata": {},
   "outputs": [
    {
     "data": {
      "application/vnd.plotly.v1+json": {
       "config": {
        "plotlyServerURL": "https://plot.ly"
       },
       "data": [
        {
         "domain": {
          "column": 0
         },
         "hole": 0.5,
         "hoverinfo": "label+percent+name",
         "labels": [
          "left thigh",
          "right buttock",
          "right thigh",
          "right parascapusular",
          "left buttock",
          "parascapusular",
          "left biceps"
         ],
         "marker": {
          "colors": [
           "#16558F",
           "#0583D2",
           "#61B0B7",
           "#3090A7",
           "#B68CB8",
           "#6461A0",
           "#EFBDEB"
          ]
         },
         "name": "Male Site of primary STS",
         "type": "pie",
         "values": [
          94,
          34,
          25,
          22,
          15,
          6,
          4
         ]
        },
        {
         "domain": {
          "column": 1
         },
         "hole": 0.5,
         "hoverinfo": "label+percent+name",
         "labels": [
          "left thigh",
          "right buttock",
          "right thigh",
          "right parascapusular",
          "left buttock",
          "parascapusular",
          "left biceps"
         ],
         "marker": {
          "colors": [
           "#16558F",
           "#0583D2",
           "#61B0B7",
           "#3090A7",
           "#B68CB8",
           "#6461A0",
           "#EFBDEB"
          ]
         },
         "name": "Female Site of primary STS",
         "type": "pie",
         "values": [
          58,
          38,
          110,
          8,
          21,
          33,
          32
         ]
        }
       ],
       "layout": {
        "annotations": [
         {
          "font": {
           "size": 20
          },
          "showarrow": false,
          "text": "Male",
          "x": 0.21,
          "y": 0.5
         },
         {
          "font": {
           "size": 20
          },
          "showarrow": false,
          "text": "Female",
          "x": 0.805,
          "y": 0.5
         }
        ],
        "grid": {
         "columns": 2,
         "rows": 1
        },
        "template": {
         "data": {
          "bar": [
           {
            "error_x": {
             "color": "#2a3f5f"
            },
            "error_y": {
             "color": "#2a3f5f"
            },
            "marker": {
             "line": {
              "color": "#E5ECF6",
              "width": 0.5
             },
             "pattern": {
              "fillmode": "overlay",
              "size": 10,
              "solidity": 0.2
             }
            },
            "type": "bar"
           }
          ],
          "barpolar": [
           {
            "marker": {
             "line": {
              "color": "#E5ECF6",
              "width": 0.5
             },
             "pattern": {
              "fillmode": "overlay",
              "size": 10,
              "solidity": 0.2
             }
            },
            "type": "barpolar"
           }
          ],
          "carpet": [
           {
            "aaxis": {
             "endlinecolor": "#2a3f5f",
             "gridcolor": "white",
             "linecolor": "white",
             "minorgridcolor": "white",
             "startlinecolor": "#2a3f5f"
            },
            "baxis": {
             "endlinecolor": "#2a3f5f",
             "gridcolor": "white",
             "linecolor": "white",
             "minorgridcolor": "white",
             "startlinecolor": "#2a3f5f"
            },
            "type": "carpet"
           }
          ],
          "choropleth": [
           {
            "colorbar": {
             "outlinewidth": 0,
             "ticks": ""
            },
            "type": "choropleth"
           }
          ],
          "contour": [
           {
            "colorbar": {
             "outlinewidth": 0,
             "ticks": ""
            },
            "colorscale": [
             [
              0,
              "#0d0887"
             ],
             [
              0.1111111111111111,
              "#46039f"
             ],
             [
              0.2222222222222222,
              "#7201a8"
             ],
             [
              0.3333333333333333,
              "#9c179e"
             ],
             [
              0.4444444444444444,
              "#bd3786"
             ],
             [
              0.5555555555555556,
              "#d8576b"
             ],
             [
              0.6666666666666666,
              "#ed7953"
             ],
             [
              0.7777777777777778,
              "#fb9f3a"
             ],
             [
              0.8888888888888888,
              "#fdca26"
             ],
             [
              1,
              "#f0f921"
             ]
            ],
            "type": "contour"
           }
          ],
          "contourcarpet": [
           {
            "colorbar": {
             "outlinewidth": 0,
             "ticks": ""
            },
            "type": "contourcarpet"
           }
          ],
          "heatmap": [
           {
            "colorbar": {
             "outlinewidth": 0,
             "ticks": ""
            },
            "colorscale": [
             [
              0,
              "#0d0887"
             ],
             [
              0.1111111111111111,
              "#46039f"
             ],
             [
              0.2222222222222222,
              "#7201a8"
             ],
             [
              0.3333333333333333,
              "#9c179e"
             ],
             [
              0.4444444444444444,
              "#bd3786"
             ],
             [
              0.5555555555555556,
              "#d8576b"
             ],
             [
              0.6666666666666666,
              "#ed7953"
             ],
             [
              0.7777777777777778,
              "#fb9f3a"
             ],
             [
              0.8888888888888888,
              "#fdca26"
             ],
             [
              1,
              "#f0f921"
             ]
            ],
            "type": "heatmap"
           }
          ],
          "heatmapgl": [
           {
            "colorbar": {
             "outlinewidth": 0,
             "ticks": ""
            },
            "colorscale": [
             [
              0,
              "#0d0887"
             ],
             [
              0.1111111111111111,
              "#46039f"
             ],
             [
              0.2222222222222222,
              "#7201a8"
             ],
             [
              0.3333333333333333,
              "#9c179e"
             ],
             [
              0.4444444444444444,
              "#bd3786"
             ],
             [
              0.5555555555555556,
              "#d8576b"
             ],
             [
              0.6666666666666666,
              "#ed7953"
             ],
             [
              0.7777777777777778,
              "#fb9f3a"
             ],
             [
              0.8888888888888888,
              "#fdca26"
             ],
             [
              1,
              "#f0f921"
             ]
            ],
            "type": "heatmapgl"
           }
          ],
          "histogram": [
           {
            "marker": {
             "pattern": {
              "fillmode": "overlay",
              "size": 10,
              "solidity": 0.2
             }
            },
            "type": "histogram"
           }
          ],
          "histogram2d": [
           {
            "colorbar": {
             "outlinewidth": 0,
             "ticks": ""
            },
            "colorscale": [
             [
              0,
              "#0d0887"
             ],
             [
              0.1111111111111111,
              "#46039f"
             ],
             [
              0.2222222222222222,
              "#7201a8"
             ],
             [
              0.3333333333333333,
              "#9c179e"
             ],
             [
              0.4444444444444444,
              "#bd3786"
             ],
             [
              0.5555555555555556,
              "#d8576b"
             ],
             [
              0.6666666666666666,
              "#ed7953"
             ],
             [
              0.7777777777777778,
              "#fb9f3a"
             ],
             [
              0.8888888888888888,
              "#fdca26"
             ],
             [
              1,
              "#f0f921"
             ]
            ],
            "type": "histogram2d"
           }
          ],
          "histogram2dcontour": [
           {
            "colorbar": {
             "outlinewidth": 0,
             "ticks": ""
            },
            "colorscale": [
             [
              0,
              "#0d0887"
             ],
             [
              0.1111111111111111,
              "#46039f"
             ],
             [
              0.2222222222222222,
              "#7201a8"
             ],
             [
              0.3333333333333333,
              "#9c179e"
             ],
             [
              0.4444444444444444,
              "#bd3786"
             ],
             [
              0.5555555555555556,
              "#d8576b"
             ],
             [
              0.6666666666666666,
              "#ed7953"
             ],
             [
              0.7777777777777778,
              "#fb9f3a"
             ],
             [
              0.8888888888888888,
              "#fdca26"
             ],
             [
              1,
              "#f0f921"
             ]
            ],
            "type": "histogram2dcontour"
           }
          ],
          "mesh3d": [
           {
            "colorbar": {
             "outlinewidth": 0,
             "ticks": ""
            },
            "type": "mesh3d"
           }
          ],
          "parcoords": [
           {
            "line": {
             "colorbar": {
              "outlinewidth": 0,
              "ticks": ""
             }
            },
            "type": "parcoords"
           }
          ],
          "pie": [
           {
            "automargin": true,
            "type": "pie"
           }
          ],
          "scatter": [
           {
            "fillpattern": {
             "fillmode": "overlay",
             "size": 10,
             "solidity": 0.2
            },
            "type": "scatter"
           }
          ],
          "scatter3d": [
           {
            "line": {
             "colorbar": {
              "outlinewidth": 0,
              "ticks": ""
             }
            },
            "marker": {
             "colorbar": {
              "outlinewidth": 0,
              "ticks": ""
             }
            },
            "type": "scatter3d"
           }
          ],
          "scattercarpet": [
           {
            "marker": {
             "colorbar": {
              "outlinewidth": 0,
              "ticks": ""
             }
            },
            "type": "scattercarpet"
           }
          ],
          "scattergeo": [
           {
            "marker": {
             "colorbar": {
              "outlinewidth": 0,
              "ticks": ""
             }
            },
            "type": "scattergeo"
           }
          ],
          "scattergl": [
           {
            "marker": {
             "colorbar": {
              "outlinewidth": 0,
              "ticks": ""
             }
            },
            "type": "scattergl"
           }
          ],
          "scattermapbox": [
           {
            "marker": {
             "colorbar": {
              "outlinewidth": 0,
              "ticks": ""
             }
            },
            "type": "scattermapbox"
           }
          ],
          "scatterpolar": [
           {
            "marker": {
             "colorbar": {
              "outlinewidth": 0,
              "ticks": ""
             }
            },
            "type": "scatterpolar"
           }
          ],
          "scatterpolargl": [
           {
            "marker": {
             "colorbar": {
              "outlinewidth": 0,
              "ticks": ""
             }
            },
            "type": "scatterpolargl"
           }
          ],
          "scatterternary": [
           {
            "marker": {
             "colorbar": {
              "outlinewidth": 0,
              "ticks": ""
             }
            },
            "type": "scatterternary"
           }
          ],
          "surface": [
           {
            "colorbar": {
             "outlinewidth": 0,
             "ticks": ""
            },
            "colorscale": [
             [
              0,
              "#0d0887"
             ],
             [
              0.1111111111111111,
              "#46039f"
             ],
             [
              0.2222222222222222,
              "#7201a8"
             ],
             [
              0.3333333333333333,
              "#9c179e"
             ],
             [
              0.4444444444444444,
              "#bd3786"
             ],
             [
              0.5555555555555556,
              "#d8576b"
             ],
             [
              0.6666666666666666,
              "#ed7953"
             ],
             [
              0.7777777777777778,
              "#fb9f3a"
             ],
             [
              0.8888888888888888,
              "#fdca26"
             ],
             [
              1,
              "#f0f921"
             ]
            ],
            "type": "surface"
           }
          ],
          "table": [
           {
            "cells": {
             "fill": {
              "color": "#EBF0F8"
             },
             "line": {
              "color": "white"
             }
            },
            "header": {
             "fill": {
              "color": "#C8D4E3"
             },
             "line": {
              "color": "white"
             }
            },
            "type": "table"
           }
          ]
         },
         "layout": {
          "annotationdefaults": {
           "arrowcolor": "#2a3f5f",
           "arrowhead": 0,
           "arrowwidth": 1
          },
          "autotypenumbers": "strict",
          "coloraxis": {
           "colorbar": {
            "outlinewidth": 0,
            "ticks": ""
           }
          },
          "colorscale": {
           "diverging": [
            [
             0,
             "#8e0152"
            ],
            [
             0.1,
             "#c51b7d"
            ],
            [
             0.2,
             "#de77ae"
            ],
            [
             0.3,
             "#f1b6da"
            ],
            [
             0.4,
             "#fde0ef"
            ],
            [
             0.5,
             "#f7f7f7"
            ],
            [
             0.6,
             "#e6f5d0"
            ],
            [
             0.7,
             "#b8e186"
            ],
            [
             0.8,
             "#7fbc41"
            ],
            [
             0.9,
             "#4d9221"
            ],
            [
             1,
             "#276419"
            ]
           ],
           "sequential": [
            [
             0,
             "#0d0887"
            ],
            [
             0.1111111111111111,
             "#46039f"
            ],
            [
             0.2222222222222222,
             "#7201a8"
            ],
            [
             0.3333333333333333,
             "#9c179e"
            ],
            [
             0.4444444444444444,
             "#bd3786"
            ],
            [
             0.5555555555555556,
             "#d8576b"
            ],
            [
             0.6666666666666666,
             "#ed7953"
            ],
            [
             0.7777777777777778,
             "#fb9f3a"
            ],
            [
             0.8888888888888888,
             "#fdca26"
            ],
            [
             1,
             "#f0f921"
            ]
           ],
           "sequentialminus": [
            [
             0,
             "#0d0887"
            ],
            [
             0.1111111111111111,
             "#46039f"
            ],
            [
             0.2222222222222222,
             "#7201a8"
            ],
            [
             0.3333333333333333,
             "#9c179e"
            ],
            [
             0.4444444444444444,
             "#bd3786"
            ],
            [
             0.5555555555555556,
             "#d8576b"
            ],
            [
             0.6666666666666666,
             "#ed7953"
            ],
            [
             0.7777777777777778,
             "#fb9f3a"
            ],
            [
             0.8888888888888888,
             "#fdca26"
            ],
            [
             1,
             "#f0f921"
            ]
           ]
          },
          "colorway": [
           "#636efa",
           "#EF553B",
           "#00cc96",
           "#ab63fa",
           "#FFA15A",
           "#19d3f3",
           "#FF6692",
           "#B6E880",
           "#FF97FF",
           "#FECB52"
          ],
          "font": {
           "color": "#2a3f5f"
          },
          "geo": {
           "bgcolor": "white",
           "lakecolor": "white",
           "landcolor": "#E5ECF6",
           "showlakes": true,
           "showland": true,
           "subunitcolor": "white"
          },
          "hoverlabel": {
           "align": "left"
          },
          "hovermode": "closest",
          "mapbox": {
           "style": "light"
          },
          "paper_bgcolor": "white",
          "plot_bgcolor": "#E5ECF6",
          "polar": {
           "angularaxis": {
            "gridcolor": "white",
            "linecolor": "white",
            "ticks": ""
           },
           "bgcolor": "#E5ECF6",
           "radialaxis": {
            "gridcolor": "white",
            "linecolor": "white",
            "ticks": ""
           }
          },
          "scene": {
           "xaxis": {
            "backgroundcolor": "#E5ECF6",
            "gridcolor": "white",
            "gridwidth": 2,
            "linecolor": "white",
            "showbackground": true,
            "ticks": "",
            "zerolinecolor": "white"
           },
           "yaxis": {
            "backgroundcolor": "#E5ECF6",
            "gridcolor": "white",
            "gridwidth": 2,
            "linecolor": "white",
            "showbackground": true,
            "ticks": "",
            "zerolinecolor": "white"
           },
           "zaxis": {
            "backgroundcolor": "#E5ECF6",
            "gridcolor": "white",
            "gridwidth": 2,
            "linecolor": "white",
            "showbackground": true,
            "ticks": "",
            "zerolinecolor": "white"
           }
          },
          "shapedefaults": {
           "line": {
            "color": "#2a3f5f"
           }
          },
          "ternary": {
           "aaxis": {
            "gridcolor": "white",
            "linecolor": "white",
            "ticks": ""
           },
           "baxis": {
            "gridcolor": "white",
            "linecolor": "white",
            "ticks": ""
           },
           "bgcolor": "#E5ECF6",
           "caxis": {
            "gridcolor": "white",
            "linecolor": "white",
            "ticks": ""
           }
          },
          "title": {
           "x": 0.05
          },
          "xaxis": {
           "automargin": true,
           "gridcolor": "white",
           "linecolor": "white",
           "ticks": "",
           "title": {
            "standoff": 15
           },
           "zerolinecolor": "white",
           "zerolinewidth": 2
          },
          "yaxis": {
           "automargin": true,
           "gridcolor": "white",
           "linecolor": "white",
           "ticks": "",
           "title": {
            "standoff": 15
           },
           "zerolinecolor": "white",
           "zerolinewidth": 2
          }
         }
        },
        "title": {
         "font": {
          "size": 20
         },
         "text": "Site of Primary STS by Gender",
         "x": 0.5
        }
       }
      }
     },
     "metadata": {},
     "output_type": "display_data"
    }
   ],
   "source": [
    "male_site_counts = male_data['Site of primary STS'].value_counts()\n",
    "female_site_counts = female_data['Site of primary STS'].value_counts()\n",
    "\n",
    "categories = male_site_counts.index\n",
    "\n",
    "blue_palette = ['#16558F', '#0583D2', '#61B0B7', '#3090A7', '#B68CB8', '#6461A0', '#EFBDEB']\n",
    "\n",
    "data1 = {\n",
    "    \"values\": male_site_counts.loc[categories].values,\n",
    "    \"labels\": categories,\n",
    "    \"domain\": {\"column\": 0},\n",
    "    \"name\": \"Male Site of primary STS\",\n",
    "    \"hoverinfo\": \"label+percent+name\",\n",
    "    \"hole\": 0.5,\n",
    "    \"type\": \"pie\",\n",
    "    \"marker\": {\"colors\": blue_palette}  \n",
    "}\n",
    "\n",
    "data2 = {\n",
    "    \"values\": female_site_counts.loc[categories].values,\n",
    "    \"labels\": categories,\n",
    "    \"domain\": {\"column\": 1},\n",
    "    \"name\": \"Female Site of primary STS\",\n",
    "    \"hoverinfo\": \"label+percent+name\",\n",
    "    \"hole\": 0.5,\n",
    "    \"type\": \"pie\",\n",
    "    \"marker\": {\"colors\": blue_palette}  \n",
    "}\n",
    "\n",
    "data = [data1, data2]\n",
    "\n",
    "layout = go.Layout(\n",
    "    {\n",
    "        \"title\": {\n",
    "            \"text\": \"Site of Primary STS by Gender\",\n",
    "            \"font\": {\n",
    "                \"size\": 20\n",
    "            },\n",
    "            \"x\": 0.5  # Center the title\n",
    "        },\n",
    "        \"grid\": {\"rows\": 1, \"columns\": 2},\n",
    "        \"annotations\": [\n",
    "            {\n",
    "                \"font\": {\"size\": 20},\n",
    "                \"showarrow\": False,\n",
    "                \"text\": \"Male\",\n",
    "                \"x\": 0.21,\n",
    "                \"y\": 0.5\n",
    "            },\n",
    "            {\n",
    "                \"font\": {\"size\": 20},\n",
    "                \"showarrow\": False,\n",
    "                \"text\": \"Female\",\n",
    "                \"x\": 0.805,\n",
    "                \"y\": 0.5\n",
    "            }\n",
    "        ]\n",
    "    }\n",
    ")\n",
    "\n",
    "fig = go.Figure(data=data, layout=layout)\n",
    "\n",
    "fig.show()\n",
    "            "
   ]
  }
 ],
 "metadata": {
  "kernelspec": {
   "display_name": "Python 3",
   "language": "python",
   "name": "python3"
  },
  "language_info": {
   "codemirror_mode": {
    "name": "ipython",
    "version": 3
   },
   "file_extension": ".py",
   "mimetype": "text/x-python",
   "name": "python",
   "nbconvert_exporter": "python",
   "pygments_lexer": "ipython3",
   "version": "3.11.3"
  },
  "orig_nbformat": 4
 },
 "nbformat": 4,
 "nbformat_minor": 2
}
